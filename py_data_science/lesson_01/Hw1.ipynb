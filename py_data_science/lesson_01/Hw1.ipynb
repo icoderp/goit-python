{
 "cells": [
  {
   "cell_type": "code",
   "execution_count": 25,
   "id": "8beaa0a4",
   "metadata": {
    "scrolled": true
   },
   "outputs": [
    {
     "name": "stdout",
     "output_type": "stream",
     "text": [
      "Collecting numpy\n",
      "  Downloading numpy-1.23.5-cp310-cp310-win_amd64.whl (14.6 MB)\n",
      "     --------------------------------------- 14.6/14.6 MB 39.9 kB/s eta 0:00:00\n",
      "Installing collected packages: numpy\n",
      "Successfully installed numpy-1.23.5\n"
     ]
    }
   ],
   "source": [
    "!pip install numpy"
   ]
  },
  {
   "cell_type": "markdown",
   "id": "b1da1598",
   "metadata": {},
   "source": [
    "1. Вкладчик положил 50000 условных единиц на три разных счета в три разных банка. По первому счету выплаты составят 5% годовых, по второму – 7% годовых и по третьему 6% годовых. Известно, что через год вкладчик получил по процентам сумму в 2250 у.е. с первого и второго банка и сумму в 1400 у.е. с первого и третьего банка. Сколько условных единиц он положил на каждый счет изначально?\n",
    "\n",
    "Розв'язок:\n",
    "Нехай, x1, x2, x3 - положено грошей на 1-й, 2-й, 3-й рахунки.\n",
    "Отримуємо систему рівнянь:\n",
    "\n",
    "x1 + x2 + x3 = 50000;\n",
    "0,05x1 + 0,07x2 = 2250;\n",
    "0,05x1 + 0,06x3 = 1400;"
   ]
  },
  {
   "cell_type": "code",
   "execution_count": 32,
   "id": "597b5a8a",
   "metadata": {},
   "outputs": [
    {
     "name": "stdout",
     "output_type": "stream",
     "text": [
      "Положено в 1-й банк: $10000\n",
      "Положено в 2-й банк: $25000\n",
      "Положено в 3-й банк: $15000\n"
     ]
    }
   ],
   "source": [
    "import numpy as np\n",
    "a = np.matrix(\"1,1,1;0.05,0.07,0;0.05,0,0.06\")\n",
    "b = np.matrix(\"50000;2250;1400\")\n",
    "x = np.linalg.solve(a, b).astype(int)\n",
    "print(f'Положено в 1-й банк: ${int(x[0])}')\n",
    "print(f'Положено в 2-й банк: ${int(x[1])}')\n",
    "print(f'Положено в 3-й банк: ${int(x[2])}')"
   ]
  },
  {
   "cell_type": "markdown",
   "id": "3606586d",
   "metadata": {},
   "source": [
    "2. На складе хранятся мобильные телефоны iPhone 6, iPhone 11, iPhone 12 моделей. Всего 1328 экземпляра. Моделей iPhone 6 на 120 меньше, чем моделей iPhone 11, и на 100 больше, чем моделей iPhone 12. Сколько моделей каждого вида на складе?\n",
    "\n",
    "Розв'язок:\n",
    "Нехай, x1, x2, x3 - кількість моделей iPhone 6, iPhone 11, iPhone 12.\n",
    "Отримуємо систему рівнянь:\n",
    "\n",
    "x1 + x2 + x3 = 1328;\n",
    "-x1 + x2 = 120;\n",
    "x1 - x3 = 100;"
   ]
  },
  {
   "cell_type": "code",
   "execution_count": 33,
   "id": "1802281b",
   "metadata": {},
   "outputs": [
    {
     "name": "stdout",
     "output_type": "stream",
     "text": [
      "Моделей iPhone 6: 436\n",
      "Моделей iPhone 11: 556\n",
      "Моделей iPhone 12: 336\n"
     ]
    }
   ],
   "source": [
    "import numpy as np\n",
    "\n",
    "a = np.matrix(\"1,1,1;-1,1,0;1,0,-1\")\n",
    "b = np.matrix(\"1328;120;100\")\n",
    "x = np.linalg.solve(a, b).astype(int)\n",
    "print(f'Моделей iPhone 6: {int(x[0])}')\n",
    "print(f'Моделей iPhone 11: {int(x[1])}')\n",
    "print(f'Моделей iPhone 12: {int(x[2])}')"
   ]
  },
  {
   "attachments": {
    "1.png": {
     "image/png": "[encoded data removed]"
    }
   },
   "cell_type": "markdown",
   "id": "621496d4",
   "metadata": {},
   "source": [
    "3. Составьте каноническое уравнение эллипсоида, проходящего через три точки A,B,C.\n",
    "\n",
    "![1.png](attachment:1.png)\n",
    "\n",
    "Каноническое уравнение эллипсоида в прямоугольной декартовой системе координат имеет вид:\n",
    "\n",
    "x**2/a**2 + y**2/b**2 + x**2/c**2 = 1\n",
    "\n",
    "Задача состоит в определении параметров a**2, b**2, c**2.\n",
    "\n",
    "Розв'язок:\n",
    "a-2 = X1\n",
    "b-2 = X2\n",
    "c-2 = X3\n",
    "Отримуємо систему рівнянь:\n",
    "3x1 + 3x3 = 1;\n",
    "6x1 + 1/4x2 = 1;\n",
    "x1 + 1/3x2 + x3 = 1;"
   ]
  },
  {
   "cell_type": "code",
   "execution_count": 35,
   "id": "e4145c04",
   "metadata": {},
   "outputs": [
    {
     "name": "stdout",
     "output_type": "stream",
     "text": [
      "a2=12.0, b2=0.5, c2=4.0\n"
     ]
    }
   ],
   "source": [
    "import numpy as np\n",
    "\n",
    "a = np.matrix([[3,0,3], [6,1/4,0], [1,1/3,1]], dtype=float)\n",
    "b = np.matrix(\"1;1;1\")\n",
    "x = np.linalg.solve(a, b)\n",
    "a2 = round(float(1/x[0]), 1)\n",
    "b2 = round(float(1/x[1]), 1)\n",
    "c2 = round(float(1/x[2]), 1)\n",
    "print(f'a2={a2}, b2={b2}, c2={c2}')"
   ]
  },
  {
   "cell_type": "markdown",
   "id": "abbe0f1b",
   "metadata": {},
   "source": [
    "Отже, рівняння эллипсоида має вигляд:\n",
    "\n",
    "x2/12 + 2y2 + z2/4 = 1"
   ]
  },
  {
   "attachments": {
    "3.png": {
     "image/png": "[encoded data removed]"
    }
   },
   "cell_type": "markdown",
   "id": "4818f29d",
   "metadata": {},
   "source": [
    "4. Составьте уравнение параболы проходящей через заданные три точки (1,12), (3,54), (-1,2). Необходимо найти коэффициенты уравнения a,b,ca,b,c\n",
    "\n",
    "![3.png](attachment:3.png)\n",
    "Розв'язок:\n",
    "y = a · x2 + b · x + c\n",
    "Підставляємо значення x, у і отримуємо систему рівнянь:\n",
    "\n",
    "а + b + c = 12;\n",
    "9a + 3b +c = 54;\n",
    "a - b + c = 2;"
   ]
  },
  {
   "cell_type": "code",
   "execution_count": 36,
   "id": "cb4b35fb",
   "metadata": {},
   "outputs": [
    {
     "name": "stdout",
     "output_type": "stream",
     "text": [
      "a=4, b=5, c=3\n"
     ]
    }
   ],
   "source": [
    "import numpy as np\n",
    "\n",
    "m1 = np.matrix(\"1,1,1;9,3,1;1,-1,1\")\n",
    "m2 = np.matrix(\"12;54;2\")\n",
    "x = np.linalg.solve(m1, m2)\n",
    "a = int(x[0])\n",
    "b = int(x[1])\n",
    "c = int(x[2])\n",
    "print(f'a={a}, b={b}, c={c}')"
   ]
  },
  {
   "cell_type": "markdown",
   "id": "8bd063ec",
   "metadata": {},
   "source": [
    "Отже, рівняння параболи має вигляд:\n",
    "y = 4x2 + 5x + 3"
   ]
  },
  {
   "cell_type": "markdown",
   "id": "930fa06f",
   "metadata": {},
   "source": [
    "5. Составьте функцию get_polynom, которая по набору точек вида (x1,y1),(x2,y2), ... (x{n+1}, y{n+1}) будет находить коэффициенты многочлена ci. Таким образом функция принимает список кортежей с координатами и возвращает набор коэффициентов c0,c1, ... ,cn.\n",
    "\n",
    "Формула многочлена имеет вид:\n",
    "c0 + c1 · x + c2 · x2 + ... + cn · xn = y"
   ]
  },
  {
   "cell_type": "code",
   "execution_count": 37,
   "id": "72a01209",
   "metadata": {},
   "outputs": [
    {
     "name": "stdout",
     "output_type": "stream",
     "text": [
      "Список координат: [(9, 10), (1, 10), (2, 0)]\n",
      "Коэффициенты многочлена:\n",
      "c0 = 22.857\n",
      "c1 = -14.286\n",
      "c2 = 1.429\n"
     ]
    }
   ],
   "source": [
    "import numpy as np\n",
    "import random\n",
    "\n",
    "def get_polynom(coords):\n",
    "    if len(coords) > 1:\n",
    "        x = ''\n",
    "        y = ''\n",
    "        for i in range(len(coords)):\n",
    "            for n in range(len(coords)):\n",
    "                x += f'{coords[i][0] ** n}'\n",
    "                if n == len(coords) - 1:\n",
    "                    if i < len(coords) - 1:\n",
    "                        x += ';'\n",
    "                else:\n",
    "                    x += ','\n",
    "            y += f'{coords[i][1]}'\n",
    "            if i < len(coords) - 1:\n",
    "                y += ';'\n",
    "        return np.linalg.solve(np.matrix(x), np.matrix(y))\n",
    "    else:\n",
    "        return 'Степень многочлена не может быть < 1.'\n",
    "\n",
    "n = 2 # Степень многочлена\n",
    "coords = []\n",
    "for i in range(n + 1):\n",
    "    coords.append((random.randint(0, 10), random.randint(0, 10)))\n",
    "print(f'Список координат: {coords}')\n",
    "try:\n",
    "    print('Коэффициенты многочлена:')\n",
    "    c = get_polynom(coords).flatten()\n",
    "    for i in range(n + 1):\n",
    "        print(f'c{i} = {round(c[0, i], 3)}')\n",
    "except:\n",
    "    print('Для заданного списка координат не существует решения.')"
   ]
  }
 ],
 "metadata": {
  "kernelspec": {
   "display_name": "Python 3 (ipykernel)",
   "language": "python",
   "name": "python3"
  },
  "language_info": {
   "codemirror_mode": {
    "name": "ipython",
    "version": 3
   },
   "file_extension": ".py",
   "mimetype": "text/x-python",
   "name": "python",
   "nbconvert_exporter": "python",
   "pygments_lexer": "ipython3",
   "version": "3.10.5"
  }
 },
 "nbformat": 4,
 "nbformat_minor": 5
}
